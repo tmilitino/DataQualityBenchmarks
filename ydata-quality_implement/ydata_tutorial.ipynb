{
 "cells": [
  {
   "cell_type": "code",
   "execution_count": 1,
   "metadata": {},
   "outputs": [
    {
     "name": "stderr",
     "output_type": "stream",
     "text": [
      "/home/milithus/git/Unicorninha/ydata-quality_implement/venv/lib/python3.8/site-packages/pandas/compat/__init__.py:109: UserWarning: Could not import the lzma module. Your installed Python is incomplete. Attempting to use lzma compression will result in a RuntimeError.\n",
      "  warnings.warn(msg)\n"
     ]
    },
    {
     "name": "stdout",
     "output_type": "stream",
     "text": [
      "\u001b[1mWarnings:\u001b[0m\n",
      "\tTOTAL: 3 warning(s)\n",
      "\t\u001b[1m\u001b[38;5;11mPriority 2\u001b[0m: 3 warning(s)\n",
      "\n",
      "\n",
      "\u001b[38;5;11m\u001b[1mPriority 2\u001b[0m - \u001b[1musage allowed, limited human intelligibility\u001b[0m:\n",
      "\t\u001b[38;5;11m*\u001b[0m \u001b[1m[DATA RELATIONS\u001b[0m - \u001b[4mCONFOUNDED CORRELATIONS]\u001b[0m \n",
      "                Found 32 independently correlated variable pairs that disappeared after controling                for the remaining variables. This is an indicator of potential confounder effects in the dataset.\n",
      "\t\u001b[38;5;11m*\u001b[0m \u001b[1m[DATA RELATIONS\u001b[0m - \u001b[4mCOLLIDER CORRELATIONS]\u001b[0m Found 4 independently uncorrelated variable pairs that showed correlation after controling for the remaining variables. This is an indicator of potential colliding bias with other covariates.\n",
      "\t\u001b[38;5;11m*\u001b[0m \u001b[1m[DATA RELATIONS\u001b[0m - \u001b[4mHIGH COLLINEARITY - NUMERICAL]\u001b[0m Found 7 numerical variables with high Variance Inflation Factor (VIF>5.0). The variables listed in results are highly collinear with other variables in the dataset. These will make model explainability harder and potentially give way to issues like overfitting.Depending on your end goal you might want to remove the highest VIF variables.\n",
      "\n"
     ]
    }
   ],
   "source": [
    "from ydata_quality import DataQuality\n",
    "import pandas as pd\n",
    "\n",
    "#Load in the data\n",
    "df = pd.read_csv('./sample/taxi_yellow_2019_02_without_errors.csv')\n",
    "\n",
    "# create a DataQuality object from the main class that holds all quality modules\n",
    "dq = DataQuality(df=df)\n",
    "\n",
    "# run the tests and outputs a summary of the quality tests\n",
    "results = dq.evaluate()"
   ]
  }
 ],
 "metadata": {
  "kernelspec": {
   "display_name": "venv",
   "language": "python",
   "name": "python3"
  },
  "language_info": {
   "codemirror_mode": {
    "name": "ipython",
    "version": 3
   },
   "file_extension": ".py",
   "mimetype": "text/x-python",
   "name": "python",
   "nbconvert_exporter": "python",
   "pygments_lexer": "ipython3",
   "version": "3.8.16"
  },
  "orig_nbformat": 4,
  "vscode": {
   "interpreter": {
    "hash": "927e70f215fa6f027e334ec8cb56de26ac53172ce025a8048e9af32c7a171e97"
   }
  }
 },
 "nbformat": 4,
 "nbformat_minor": 2
}
